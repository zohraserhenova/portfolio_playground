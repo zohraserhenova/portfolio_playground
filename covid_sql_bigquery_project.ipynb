{
 "cells": [
  {
   "cell_type": "markdown",
   "metadata": {},
   "source": [
    "# Playing with the dataset: https://ourworldindata.org/covid-deaths"
   ]
  },
  {
   "cell_type": "code",
   "execution_count": null,
   "metadata": {},
   "outputs": [],
   "source": [
    "WITH\n",
    "  population_vs_vaccination AS (\n",
    "  SELECT\n",
    "    death.continent,\n",
    "    death.location,\n",
    "    death.date,\n",
    "    death.population,\n",
    "    vaccination.new_vaccinations,\n",
    "    SUM(CAST(vaccination.new_vaccinations AS int)) OVER (PARTITION BY death.location ORDER BY death.location, death.date) AS rolling_people_vaccinated\n",
    "  FROM\n",
    "    `just-camera-322820.covid_data.covid_deaths` AS death\n",
    "  JOIN\n",
    "    `just-camera-322820.covid_data.covid_vaccination` AS vaccination\n",
    "  ON\n",
    "    death.location = vaccination.location\n",
    "    AND death.date = vaccination.date\n",
    "  WHERE\n",
    "    death.continent IS NOT NULL )\n",
    "SELECT\n",
    "  *,\n",
    "  (rolling_people_vaccinated/population)\n",
    "FROM\n",
    "  population_vs_vaccination"
   ]
  },
  {
   "cell_type": "markdown",
   "metadata": {},
   "source": [
    "## CREATE VIEW for Tableau"
   ]
  },
  {
   "cell_type": "code",
   "execution_count": null,
   "metadata": {},
   "outputs": [],
   "source": [
    "CREATE VIEW\n",
    "  covid_data.percent_population_vaccinated AS\n",
    "SELECT\n",
    "  death.continent,\n",
    "  death.location,\n",
    "  death.date,\n",
    "  death.population,\n",
    "  vaccination.new_vaccinations,\n",
    "  SUM(CAST(vaccination.new_vaccinations AS int)) OVER (PARTITION BY death.location ORDER BY death.location, death.date) AS rolling_people_vaccinated\n",
    "FROM\n",
    "  `just-camera-322820.covid_data.covid_deaths` AS death\n",
    "JOIN\n",
    "  `just-camera-322820.covid_data.covid_vaccination` AS vaccination\n",
    "ON\n",
    "  death.location = vaccination.location\n",
    "  AND death.date = vaccination.date\n",
    "WHERE\n",
    "  death.continent IS NOT NULL"
   ]
  }
 ],
 "metadata": {
  "kernelspec": {
   "display_name": "Python 3",
   "language": "python",
   "name": "python3"
  },
  "language_info": {
   "codemirror_mode": {
    "name": "ipython",
    "version": 3
   },
   "file_extension": ".py",
   "mimetype": "text/x-python",
   "name": "python",
   "nbconvert_exporter": "python",
   "pygments_lexer": "ipython3",
   "version": "3.8.5"
  }
 },
 "nbformat": 4,
 "nbformat_minor": 4
}
